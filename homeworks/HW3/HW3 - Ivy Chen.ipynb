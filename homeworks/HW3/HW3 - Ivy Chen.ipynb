{
 "cells": [
  {
   "cell_type": "markdown",
   "metadata": {},
   "source": [
    "# Homework 3  | Classifying People \n",
    "### Assigned Friday, 6 Apr 2018  /  Due Monday, 16 Apr  2018"
   ]
  },
  {
   "cell_type": "markdown",
   "metadata": {},
   "source": [
    "#### Goal:\n",
    "Using unsupervised learning we're going to construct a classifer by examining individual language usage. Next we're going to use this classifier to predict the political affliation of a group of people. Finally, we're going to use this exercise to reflect, analyze, and explore how such practices both reify and challenge our contemporary understanding of community and the public discourse. \n",
    "\n",
    "More specifically, you're going to\n",
    "1. Tokenize and get word counts for a set of tweets;\n",
    "2. see how these twitter user accounts cluster based on word usage using PCA;\n",
    "3. explore how word usage is (or isn't) a good proxy for political affliation for people in public office.\n",
    "\n",
    "#### To do this homework, you will also need the following files (which are also provided in github with this homework):\n",
    "1. 2016tweets.csv (which is 19 MB so be sure you have a good internet connection!) \n",
    "2. pol_aff.csv"
   ]
  },
  {
   "cell_type": "markdown",
   "metadata": {},
   "source": [
    "## Homework Problems \n",
    "#### This assignment is to be done on your own. Provide your code to justify your answer to each question.  Be sure to rename this homework so that it includes your name. "
   ]
  },
  {
   "cell_type": "markdown",
   "metadata": {},
   "source": [
    "## Step 1: Getting Word Frequencies For All Words in each tweet\n",
    "\n",
    "### question 1 [1 points]\n",
    "Ingest the file 2016tweets.csv into pandas as a dataframe entitled \"tweets\". Note that each tweet is a row. (You can find this file in the github repo in the same folder as this homework.) \n",
    "  "
   ]
  },
  {
   "cell_type": "code",
   "execution_count": 31,
   "metadata": {
    "collapsed": false
   },
   "outputs": [
    {
     "data": {
      "text/html": [
       "<div>\n",
       "<style scoped>\n",
       "    .dataframe tbody tr th:only-of-type {\n",
       "        vertical-align: middle;\n",
       "    }\n",
       "\n",
       "    .dataframe tbody tr th {\n",
       "        vertical-align: top;\n",
       "    }\n",
       "\n",
       "    .dataframe thead th {\n",
       "        text-align: right;\n",
       "    }\n",
       "</style>\n",
       "<table border=\"1\" class=\"dataframe\">\n",
       "  <thead>\n",
       "    <tr style=\"text-align: right;\">\n",
       "      <th></th>\n",
       "      <th>id</th>\n",
       "      <th>user_id</th>\n",
       "      <th>created_at</th>\n",
       "      <th>tweet_text</th>\n",
       "    </tr>\n",
       "  </thead>\n",
       "  <tbody>\n",
       "    <tr>\n",
       "      <th>114671</th>\n",
       "      <td>702222217518698496</td>\n",
       "      <td>1.321432e+09</td>\n",
       "      <td>2016-02-23 20:03:17</td>\n",
       "      <td>RT @DwightEvansPA: \"No one has gotten more don...</td>\n",
       "    </tr>\n",
       "    <tr>\n",
       "      <th>114672</th>\n",
       "      <td>701569631874629634</td>\n",
       "      <td>1.321432e+09</td>\n",
       "      <td>2016-02-22 00:50:09</td>\n",
       "      <td>.@JoshShapiroPA is a proven reformer and he is...</td>\n",
       "    </tr>\n",
       "    <tr>\n",
       "      <th>114673</th>\n",
       "      <td>698157622470512640</td>\n",
       "      <td>1.321432e+09</td>\n",
       "      <td>2016-02-12 14:52:02</td>\n",
       "      <td>\"Wolf has the facts on his side. As he said in...</td>\n",
       "    </tr>\n",
       "    <tr>\n",
       "      <th>114674</th>\n",
       "      <td>697112619791024128</td>\n",
       "      <td>1.321432e+09</td>\n",
       "      <td>2016-02-09 17:39:34</td>\n",
       "      <td>If Harrisburg doesn't stop playing games w/ th...</td>\n",
       "    </tr>\n",
       "    <tr>\n",
       "      <th>114675</th>\n",
       "      <td>688057856298475520</td>\n",
       "      <td>1.321432e+09</td>\n",
       "      <td>2016-01-15 17:59:11</td>\n",
       "      <td>65,914 Pennsylvanians to Republican Leaders: P...</td>\n",
       "    </tr>\n",
       "  </tbody>\n",
       "</table>\n",
       "</div>"
      ],
      "text/plain": [
       "                        id       user_id          created_at  \\\n",
       "114671  702222217518698496  1.321432e+09 2016-02-23 20:03:17   \n",
       "114672  701569631874629634  1.321432e+09 2016-02-22 00:50:09   \n",
       "114673  698157622470512640  1.321432e+09 2016-02-12 14:52:02   \n",
       "114674  697112619791024128  1.321432e+09 2016-02-09 17:39:34   \n",
       "114675  688057856298475520  1.321432e+09 2016-01-15 17:59:11   \n",
       "\n",
       "                                               tweet_text  \n",
       "114671  RT @DwightEvansPA: \"No one has gotten more don...  \n",
       "114672  .@JoshShapiroPA is a proven reformer and he is...  \n",
       "114673  \"Wolf has the facts on his side. As he said in...  \n",
       "114674  If Harrisburg doesn't stop playing games w/ th...  \n",
       "114675  65,914 Pennsylvanians to Republican Leaders: P...  "
      ]
     },
     "execution_count": 31,
     "metadata": {},
     "output_type": "execute_result"
    }
   ],
   "source": [
    "import pandas as pd\n",
    "\n",
    "tweets = pd.read_csv('2016tweets.csv')\n",
    "tweets['created_at'] =  pd.to_datetime(tweets['created_at'])\n",
    "\n",
    "tweets.tail()"
   ]
  },
  {
   "cell_type": "markdown",
   "metadata": {},
   "source": [
    "### question 2 [4 points]\n",
    "1. What day and time was the oldest tweet in the data set posted? Hint: use `tweets['created_at'].min()`.\n",
    "2. What day and time was the most recent tweet in the data set posted?\n",
    "3. How many *tweets* does the data set have? \n",
    "4. How many unique twitter users does the data set have? \n"
   ]
  },
  {
   "cell_type": "code",
   "execution_count": 16,
   "metadata": {
    "collapsed": false
   },
   "outputs": [
    {
     "name": "stdout",
     "output_type": "stream",
     "text": [
      "1. The oldest tweet in the data set: 2016-01-01 00:16:30\n",
      "2. Day and time of the most recent tweet 2017-01-29 23:58:10\n",
      "3. How many tweets? 114676 tweets\n",
      "4. How many unique twitter users? 125\n"
     ]
    }
   ],
   "source": [
    "print(\"1. The oldest tweet in the data set:\", tweets['created_at'].min())\n",
    "print(\"2. Day and time of the most recent tweet\", tweets['created_at'].max())\n",
    "print(\"3. How many tweets?\", tweets.shape[0], \"tweets\")\n",
    "print(\"4. How many unique twitter users?\", tweets['user_id'].nunique())"
   ]
  },
  {
   "cell_type": "markdown",
   "metadata": {},
   "source": [
    "### question 3 [30 points]\n",
    "Use *sklearn's CountVectorizer* to produce a table of word counts in which each tweet is a row and each word is a column. Name this table \"wc\".\n",
    "\n",
    "For a simple example of using sklearn countvectorizer to produce a table like this, see below. Note that this example just uses three made-up tweets so that it's easier to see what's happening.  "
   ]
  },
  {
   "cell_type": "code",
   "execution_count": 2,
   "metadata": {
    "collapsed": false
   },
   "outputs": [
    {
     "data": {
      "text/plain": [
       "{'animal': 0, 'can': 1, 'is': 2, 'large': 3, 'the': 4}"
      ]
     },
     "execution_count": 2,
     "metadata": {},
     "output_type": "execute_result"
    }
   ],
   "source": [
    "from sklearn.feature_extraction.text import CountVectorizer\n",
    "\n",
    "# Here we list a few sample strings, where each \n",
    "# string can be considered one text. For the tweets \n",
    "# dataframe you'll to produce a list in which each tweet is one string.  \n",
    "# The string \"The animal is large\" is text 0 below; the string\n",
    "# \"is is is\" is text 1 below; etc.\n",
    "three_tweets= [\"The animal is large.\", \"is is is\", \"The can't\"]\n",
    "\n",
    "# create vectorizer \n",
    "cv = CountVectorizer()\n",
    "\n",
    "# tokenize texts & get vocabulary\n",
    "cv.fit(three_tweets) #note that the sklearn tokenizer turns \"can't\" into \"can\"\n",
    "\n",
    "# create a dictionary where each word is given an index number.\n",
    "# If you need to know what word a number represents, refer back to this dictionary\n",
    "word_index = cv.vocabulary_\n",
    "word_index"
   ]
  },
  {
   "cell_type": "code",
   "execution_count": 18,
   "metadata": {
    "collapsed": false
   },
   "outputs": [
    {
     "data": {
      "text/plain": [
       "0"
      ]
     },
     "execution_count": 18,
     "metadata": {},
     "output_type": "execute_result"
    }
   ],
   "source": [
    "# to find out what column number a particular word is, say, \"animal\" we can use \n",
    "word_index[\"animal\"]"
   ]
  },
  {
   "cell_type": "code",
   "execution_count": 19,
   "metadata": {
    "collapsed": false
   },
   "outputs": [
    {
     "data": {
      "text/plain": [
       "(3, 5)"
      ]
     },
     "execution_count": 19,
     "metadata": {},
     "output_type": "execute_result"
    }
   ],
   "source": [
    "# generate a table of tweets vs words\n",
    "word_counts =  cv.transform(three_tweets)\n",
    "\n",
    "# and get the \"shape\" of this table like this:\n",
    "word_counts.shape\n",
    "# where the 3 rows are the three tweets and the \n",
    "# 5 columns are the 5 words in this corpus "
   ]
  },
  {
   "cell_type": "code",
   "execution_count": 20,
   "metadata": {
    "collapsed": false
   },
   "outputs": [
    {
     "data": {
      "text/plain": [
       "array([[1, 0, 1, 1, 1],\n",
       "       [0, 0, 3, 0, 0],\n",
       "       [0, 1, 0, 0, 1]], dtype=int64)"
      ]
     },
     "execution_count": 20,
     "metadata": {},
     "output_type": "execute_result"
    }
   ],
   "source": [
    "# Finally, you can dump the word_counts table into an array\n",
    "# where each row is a tweet, each column is a word type, and each\n",
    "# element is a word token count (where each word is denoted by a number\n",
    "# as defined in the word_index). For difference between word types and word tokens, \n",
    "# see \"type-token distinction\" in wikipedia.\n",
    "wc = word_counts.toarray()\n",
    "wc"
   ]
  },
  {
   "cell_type": "markdown",
   "metadata": {},
   "source": [
    "You'll need to substitute the \"three_texts\" list with a list of all the tweets that appear in your data set.\n",
    "\n",
    "#### Put your code for question 3 below:"
   ]
  },
  {
   "cell_type": "code",
   "execution_count": 20,
   "metadata": {
    "collapsed": false,
    "scrolled": true
   },
   "outputs": [
    {
     "data": {
      "text/plain": [
       "CountVectorizer(analyzer='word', binary=False, decode_error='strict',\n",
       "        dtype=<class 'numpy.int64'>, encoding='utf-8', input='content',\n",
       "        lowercase=True, max_df=1.0, max_features=None, min_df=1,\n",
       "        ngram_range=(1, 1), preprocessor=None, stop_words=None,\n",
       "        strip_accents=None, token_pattern='(?u)\\\\b\\\\w\\\\w+\\\\b',\n",
       "        tokenizer=None, vocabulary=None)"
      ]
     },
     "execution_count": 20,
     "metadata": {},
     "output_type": "execute_result"
    }
   ],
   "source": [
    "# List of tweets in data set\n",
    "filtered_tweets = tweets[tweets['tweet_text'].notnull()]\n",
    "tweet_texts = list(filtered_tweets['tweet_text'])\n",
    "\n",
    "cv = CountVectorizer()\n",
    "cv.fit(tweet_texts)"
   ]
  },
  {
   "cell_type": "code",
   "execution_count": 39,
   "metadata": {
    "collapsed": false
   },
   "outputs": [],
   "source": [
    "word_index = cv.vocabulary_\n",
    "word_counts = cv.transform(tweet_texts)\n",
    "wc = word_counts.toarray()"
   ]
  },
  {
   "cell_type": "markdown",
   "metadata": {},
   "source": [
    "## Step 2: Find word usage for each twitter account\n",
    "\n",
    "### question 4 [20 points]\n",
    "The table wc give us the word counts for all tweets, but what we really want is a table of word counts *for all twitter accounts in our data set* (i.e., word counts for all tweets for each account).  \n",
    "\n",
    "Make a new table called \"wc_accounts\" where each row is a twitter account user and the columns are word token counts for unique word types. (Note 2:  In the dataframe \"tweets\", a \"user_id\" is provided for each tweet.) You'll probably want to generate wc_accounts using a for loop that \n",
    "1. adds all the word counts in all the tweets written by the same account \n",
    "2. writes these account word counts to a new row;\n",
    "3. and then repeats for all twitter accounts in corpus. \n",
    "\n",
    "However, as usual, there's more than one way to do this. Do whatever way makes most sense to you."
   ]
  },
  {
   "cell_type": "markdown",
   "metadata": {
    "collapsed": true
   },
   "source": [
    "#### Put your code for question 4 below: "
   ]
  },
  {
   "cell_type": "code",
   "execution_count": 45,
   "metadata": {
    "collapsed": false
   },
   "outputs": [],
   "source": [
    "import numpy as np\n",
    "\n",
    "user_tweets = filtered_tweets.groupby(['user_id'], as_index=False)\n",
    "all_user_tweets = np.zeros(shape=(len(user_tweets), len(word_index)))"
   ]
  },
  {
   "cell_type": "code",
   "execution_count": 57,
   "metadata": {
    "collapsed": false
   },
   "outputs": [
    {
     "name": "stdout",
     "output_type": "stream",
     "text": [
      "[[ 1. 10.  0. ...  0.  0.  0.]\n",
      " [ 0.  0.  0. ...  0.  0.  0.]\n",
      " [ 0.  2.  0. ...  0.  0.  0.]\n",
      " ...\n",
      " [ 0.  1.  0. ...  0.  0.  0.]\n",
      " [ 0.  0.  0. ...  0.  0.  0.]\n",
      " [ 0.  0.  0. ...  0.  0.  0.]]\n"
     ]
    }
   ],
   "source": [
    "for i, (user, utweets) in enumerate(user_tweets,start=0):\n",
    "    count_vec = cv.transform(utweets['tweet_text'])\n",
    "    sum_vec = np.sum(count_vec.toarray(), axis=0)\n",
    "    all_user_tweets[i,:] = sum_vec\n",
    "    \n",
    "print(all_user_tweets)"
   ]
  },
  {
   "cell_type": "code",
   "execution_count": 63,
   "metadata": {
    "collapsed": false
   },
   "outputs": [
    {
     "name": "stdout",
     "output_type": "stream",
     "text": [
      "(125, 152347)\n"
     ]
    }
   ],
   "source": [
    "wc_accounts = all_user_tweets\n",
    "print(wc_accounts.shape)"
   ]
  },
  {
   "cell_type": "markdown",
   "metadata": {},
   "source": [
    "## Step 3: Perform PCA on wc_accounts"
   ]
  },
  {
   "cell_type": "markdown",
   "metadata": {},
   "source": [
    "Now that we have wc_acounts, we'd like to plot this to see how all these accounts use language. But how plot this in two dimensions? Let's use a form of unsupervised learning called PCA, where each account (i.e., each row) represents one data point. This is effectivey the same as the PCA we performed on the Iris and Spearman data sets in lab 5. And we can plot our twitter account data in exactly in the same way we did then.   \n",
    "\n",
    "However, we have one additional wrinkle in our task. It'd be helpful to know which political affliation each individual twitter account has. Fortunately, I have this data for you! In pol_aff.csv I have included user_ID and their respective political affliation. Use this csv to get the political association of each user account. Note that this file may include user_IDs that don't exist in your corpus of tweets so you'll need to selective add political affliation based on user IDs. \n",
    "\n",
    "### question 5 [25 points]\n",
    "Perform PCA on individual user accounts using the data in wc_accounts. Plot this in 2 dimensions where each data point represents one twitter account. Color code each data point according to account political affliation, with red = republicans and blue = democrats. To make overlapping data points easier to see, reduce the opacity (i.e., the \"alpha\" parameter) to 0.3. \n",
    "\n",
    "\n",
    "#### Put your code for question 5 below:"
   ]
  },
  {
   "cell_type": "code",
   "execution_count": null,
   "metadata": {
    "collapsed": false
   },
   "outputs": [],
   "source": [
    "from sklearn.decomposition import PCA as sklearnPCA\n",
    "import matplotlib.pyplot as plt\n",
    "import matplotlib \n",
    "\n",
    "pol_aff = pd.read_csv('pol_aff.csv')\n",
    "\n",
    "user_groups = [uid for uid, unused_df in user_tweets]\n",
    "user_groups = pd.DataFrame(np.array(user_groups).reshape(len(user_groups), 1), columns=['user_id'])\n",
    "\n",
    "joined_users = pd.merge(user_groups, pol_aff, how='left', left_on='user_id', right_on='id')\n",
    "\n",
    "affiliations = joined_users['affliation']\n",
    "affiliations = np.asarray(affiliations)"
   ]
  },
  {
   "cell_type": "code",
   "execution_count": 154,
   "metadata": {
    "collapsed": false
   },
   "outputs": [],
   "source": [
    "pca_model = sklearnPCA(n_components=2)\n",
    "pca_coordinates = pca_model.fit_transform(wc_accounts)"
   ]
  },
  {
   "cell_type": "code",
   "execution_count": 172,
   "metadata": {
    "collapsed": false
   },
   "outputs": [
    {
     "name": "stderr",
     "output_type": "stream",
     "text": [
      "C:\\Users\\ivycn\\Anaconda3\\lib\\site-packages\\matplotlib\\cbook\\deprecation.py:106: MatplotlibDeprecationWarning: Adding an axes using the same arguments as a previous axes currently reuses the earlier instance.  In a future version, a new instance will always be created and returned.  Meanwhile, this warning can be suppressed, and the future behavior ensured, by passing a unique label to each axes instance.\n",
      "  warnings.warn(message, mplDeprecation, stacklevel=1)\n"
     ]
    },
    {
     "data": {
      "image/png": "[encoded data removed]",
      "text/plain": [
       "<matplotlib.figure.Figure at 0x20aa8952550>"
      ]
     },
     "metadata": {},
     "output_type": "display_data"
    }
   ],
   "source": [
    "%matplotlib inline\n",
    "\n",
    "for tweeter in range(0, len(pca_coordinates)):\n",
    "    if affiliations[tweeter] == 'republican':\n",
    "        col = 'red'\n",
    "    elif affiliations[tweeter] == 'democrat':\n",
    "        col = 'blue'\n",
    "    else:\n",
    "        continue\n",
    "        \n",
    "    plt.plot(pca_coordinates[tweeter, 0], pca_coordinates[tweeter, 1], 'o', markersize=7, alpha=0.3, color=col, label=label_of_tweeter[tweeter])\n",
    "\n",
    "plt.legend()\n",
    "ax = plt.subplot(111) #used in making legend\n",
    "plt.xlabel\n",
    "plt.grid(b=True, which='major', color='gray', linestyle='dotted') # Add gridlines\n",
    "box = ax.get_position()\n",
    "ax.set_position([box.x0, box.y0 + box.height * 0.1,  box.width, box.height * 0.9]) ## Shrink current axis's height by 10% on the bottom\n",
    "ax.legend(loc='lower center', bbox_to_anchor=(0.5, -.25), fancybox=True, shadow=False, ncol=5) # Put a legend below current axis\n",
    "plt.show()"
   ]
  },
  {
   "cell_type": "markdown",
   "metadata": {},
   "source": [
    "## Step 4: Reflection: Choose your own adventure"
   ]
  },
  {
   "cell_type": "markdown",
   "metadata": {},
   "source": [
    "## Provide an answer to either question 6 or question 7 but not both.\n",
    "\n",
    "\n",
    "### question 6 [30 points, 350 words max] --  Post-Analysis Reflection: Using language to track political affliation\n",
    "Write a short reflection about what you did in steps 1 - 3, specifically focusing on what assumptions are required for us to see language usage as a meaningful proxy for political affliation. The point is not to say what assumptions you agree with; but rather what would you have to believe to take the results of this investigation seriously. Are these assumptions tenable for inferring political affliation? Your answer will be graded on style, clarity, insight, and creativity.\n",
    "\n",
    "Be sure to address the following questions in your answer:\n",
    "1. Via visual inspection of your PCA plot in step 3, does our analysis of word usage effectively identify political affliations?  \n",
    "2. What are some ways in which we could use *subsets of the vocabulary* as a better proxy for political affliation? How? What new problems might this cause? Are there other ways this proxy might be improved?\n",
    "3. From step 1, you know what time period these tweets span. How might this influence the results of clustering by political affliation? How might you \n",
    "4. From lab 5, we saw that when applied to texts, PCA was sensitive to word length of texts being examined, i.e., longer texts tended to cluster together and shorter texts tended to cluster together. Without actually doing the analysis, how might you check to see if this was influencing your results?"
   ]
  },
  {
   "cell_type": "markdown",
   "metadata": {
    "collapsed": true
   },
   "source": [
    "Response:\n",
    "\n",
    "From our PCA plot in step 3, using PCA to analyze how word usage identifies political affiliations was not effective. We see that most of the data points cluster around the same areas, with a few outliers that were affiliated with `democrat`. While performing this analysis, the assumptions we made were that the language used in tweets were indicative, expressive and clear in identifying political affiliation. However, Twitter tweets are often noisy and include emojis, hyperlinks, RTs (retweets), and may be too short to express political affiliation. In addition, non-political tweets would lead to inaccurate results. We can use subsets of the vocabulary by cleaning the data to remove stopwords, RTs, links, and other noise. In addition, we can choose the most discriminative words (such as those in the visualization here: https://archive.nytimes.com/www.nytimes.com/interactive/2012/09/06/us/politics/convention-word-counts.html#Leadership) and weigh them more heavily (so we don't just use the count of the word). Another idea might be to see who they tweeted at/in reply to. From step 1, we know that the tweets span approximately one year and one month. Since 2016 was the year of the last presidential election, tweets may express more political sentiment than in non-election years. However, we also may see that tweeters will address the platforms of both Democrats and Republicans. Since PCA is sentitive to word length such that longer texts cluster and shorter texts cluster, we could check this by looking for two clusters. In our plot, we see that most of the tweets cluster around the same area, so they are around the same length. "
   ]
  },
  {
   "cell_type": "markdown",
   "metadata": {},
   "source": [
    "### question 7 [30 points, 350 words max] --  Unsupervised learning proxies as a way of imagining communities\n",
    "We looked at tweets in this assignment as a way of tracking political affiliation, but one could apply these and other unsupervised learning techniques to group people in other ways. In our case clustering (and possible subsequent classification or categorization) is produced by an examination of the similarity of word usage--even though there is no obvious or necessary connection between word usage and political affiliation. We could examine any set of features (not just words) to cluster groups of people, look for what particular features \"produce\" clusters that make sense to us (using a test set to check our clusters, such as we did above with Democrats and Republicans), and then use these particular features to group new people (i.e., those whose political affiliations we do not have data). \n",
    "\n",
    "Identify at least 4 problems with grouping people in this way. What are some of the assumptions required to group people using unsupervised learning as described in the above paragraph? Be sure to address the role of the corpus in constructing groups, and the various ethical considerations tied to this choice. You may wish to address the different contexts in which this grouping of people may occur. Feel free to cite any other examples of using unsupervised learning to construct groups of people to support your argument as well as any secondary literature you feel appropriate. Your answer will be graded on style, clarity, insight, and creativity."
   ]
  },
  {
   "cell_type": "markdown",
   "metadata": {
    "collapsed": true
   },
   "source": [
    "Response:\n",
    "\n",
    "Some of the assumptions required to group people in the unsupervised clustering method described are that they use the same language (not necessarily true on a social platform like Twitter), assuming that the same words are used across users, that the data is free from errors (on Twitter, we see noisy data such as abbreviations, slang, alternative spellings, etc.). In addition, there are questions of representation in the data. The Twitter corpus is noisy, tweet text data contains retweets and have length restrictions. In addition, clustering seems to require a critical mass of users that have similar word usage. In that regard, we are excluding or discounting \"minorities\" of the Twitterverse (ie. perhaps people who don't spend much time on social media, people without easy access to internet, demographic differences, etc.) One of the dangers of constructing groups of people is when the results are interpreted to stereotypes (ie. racial, socioeconomic, gender). The paper [_Real Men Don't Say \"Cute\"_ (Carpenter, et. 2016)](http://journals.sagepub.com/doi/10.1177/1948550616671998) looks at the issue of stereotypes and \"aims to compare the extent to which a behavior is represented by a group to the extent that the exact same behavior is believed to be represented\" on Twitter. They used labeled data on Twitter users in 4 studies: gender, age, education level, and political orientation and crowdsourced Some of their findings included that men were likely to be categorized as women if they expressed positive emotion or used second-person nouns, while women were more likely to be categorized as men if they talked about news or technology. The same issue could very well occur in unsupervised clustering of groups."
   ]
  },
  {
   "cell_type": "code",
   "execution_count": null,
   "metadata": {
    "collapsed": true
   },
   "outputs": [],
   "source": []
  }
 ],
 "metadata": {
  "kernelspec": {
   "display_name": "Python 3",
   "language": "python",
   "name": "python3"
  },
  "language_info": {
   "codemirror_mode": {
    "name": "ipython",
    "version": 3
   },
   "file_extension": ".py",
   "mimetype": "text/x-python",
   "name": "python",
   "nbconvert_exporter": "python",
   "pygments_lexer": "ipython3",
   "version": "3.5.4"
  }
 },
 "nbformat": 4,
 "nbformat_minor": 2
}
